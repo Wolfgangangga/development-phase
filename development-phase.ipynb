{
 "cells": [
  {
   "cell_type": "code",
   "execution_count": 2,
   "id": "9b453743",
   "metadata": {},
   "outputs": [],
   "source": [
    "# Import Libraries\n",
    "import torch\n",
    "import torchvision.transforms as transforms\n",
    "import torchvision.datasets as datasets\n",
    "import torchvision.models as models\n",
    "import torch.nn as nn\n",
    "import torch.optim as optim\n",
    "import numpy as np\n",
    "from PIL import Image\n",
    "import numpy as np"
   ]
  },
  {
   "cell_type": "code",
   "execution_count": 3,
   "id": "ac6b9d30",
   "metadata": {},
   "outputs": [],
   "source": [
    "# Load trainning dataset and apply transformations\n",
    "train_set = datasets.ImageFolder(\"C:/Users/HP/Documents/Python/PyTorch/train\", transform=transforms.ToTensor())"
   ]
  },
  {
   "cell_type": "code",
   "execution_count": 5,
   "id": "ec929127",
   "metadata": {},
   "outputs": [],
   "source": [
    "# Create the model\n",
    "class Net(nn.Module):\n",
    "    def __init__(self, num_classes=10):\n",
    "        super(Net, self).__init__()\n",
    "        self.fc1 = nn.Linear(32*32*3, 1000)  \n",
    "        self.fc2 = nn.Linear(1000, 500) \n",
    "        self.fc3 = nn.Linear(500, 100)\n",
    "        self.fc4 = nn.Linear(100, num_classes)\n",
    "        \n",
    "    def forward(self, x):\n",
    "        x = x.view(-1, 32*32*3) \n",
    "        x = self.fc1(x)\n",
    "        x = torch.relu(x)\n",
    "        x = self.fc2(x)\n",
    "        x = torch.relu(x)\n",
    "        x = self.fc3(x)\n",
    "        x = torch.relu(x)\n",
    "        x = self.fc4(x)\n",
    "        return x"
   ]
  },
  {
   "cell_type": "code",
   "execution_count": 7,
   "id": "a47c5bb7",
   "metadata": {},
   "outputs": [],
   "source": [
    "# Initiate the model\n",
    "model = Net()"
   ]
  },
  {
   "cell_type": "code",
   "execution_count": 8,
   "id": "dea5bace",
   "metadata": {},
   "outputs": [],
   "source": [
    "# Load the data into PyTorch DataLoader\n",
    "train_loader = torch.utils.data.DataLoader(train_set, batch_size=64, shuffle=True)\n",
    " \n",
    "# Define the loss function and optimizer\n",
    "criterion = nn.CrossEntropyLoss()\n",
    "optimizer = torch.optim.Adam(model.parameters(), lr=0.001)"
   ]
  },
  {
   "cell_type": "code",
   "execution_count": 10,
   "id": "e28e37bb",
   "metadata": {},
   "outputs": [
    {
     "name": "stdout",
     "output_type": "stream",
     "text": [
      "Epoch 1/30, train loss: 2.1112, train acc: 0.1893\n",
      "Epoch 2/30, train loss: 2.0053, train acc: 0.2557\n",
      "Epoch 3/30, train loss: 1.9542, train acc: 0.2839\n",
      "Epoch 4/30, train loss: 1.8991, train acc: 0.3071\n",
      "Epoch 5/30, train loss: 1.8422, train acc: 0.3379\n",
      "Epoch 6/30, train loss: 1.7909, train acc: 0.3486\n",
      "Epoch 7/30, train loss: 1.7468, train acc: 0.3671\n",
      "Epoch 8/30, train loss: 1.7189, train acc: 0.3696\n",
      "Epoch 9/30, train loss: 1.7075, train acc: 0.3743\n",
      "Epoch 10/30, train loss: 1.6759, train acc: 0.3914\n",
      "Epoch 11/30, train loss: 1.6382, train acc: 0.4061\n",
      "Epoch 12/30, train loss: 1.5757, train acc: 0.4375\n",
      "Epoch 13/30, train loss: 1.5712, train acc: 0.4257\n",
      "Epoch 14/30, train loss: 1.5378, train acc: 0.4407\n",
      "Epoch 15/30, train loss: 1.5332, train acc: 0.4443\n",
      "Epoch 16/30, train loss: 1.5000, train acc: 0.4586\n",
      "Epoch 17/30, train loss: 1.4716, train acc: 0.4693\n",
      "Epoch 18/30, train loss: 1.4612, train acc: 0.4668\n",
      "Epoch 19/30, train loss: 1.4499, train acc: 0.4729\n",
      "Epoch 20/30, train loss: 1.4087, train acc: 0.4900\n",
      "Epoch 21/30, train loss: 1.3770, train acc: 0.4918\n",
      "Epoch 22/30, train loss: 1.3406, train acc: 0.5046\n",
      "Epoch 23/30, train loss: 1.2851, train acc: 0.5232\n",
      "Epoch 24/30, train loss: 1.2774, train acc: 0.5389\n",
      "Epoch 25/30, train loss: 1.2491, train acc: 0.5361\n",
      "Epoch 26/30, train loss: 1.1990, train acc: 0.5729\n",
      "Epoch 27/30, train loss: 1.2087, train acc: 0.5564\n",
      "Epoch 28/30, train loss: 1.1798, train acc: 0.5732\n",
      "Epoch 29/30, train loss: 1.1473, train acc: 0.5825\n",
      "Epoch 30/30, train loss: 1.1082, train acc: 0.6068\n"
     ]
    }
   ],
   "source": [
    "# Train the model\n",
    "num_epochs = 30\n",
    "train_loss_history = []\n",
    "train_acc_history = []\n",
    " \n",
    "# Loop through the number of epochs\n",
    "for epoch in range(num_epochs):\n",
    "    train_loss = 0.0\n",
    "    train_acc = 0.0\n",
    " \n",
    "    # set model to train mode\n",
    "    model.train()\n",
    "    # iterate over the training data\n",
    "    for inputs, labels in train_loader:\n",
    "        optimizer.zero_grad()\n",
    "        outputs = model(inputs)\n",
    "        #compute the loss\n",
    "        loss = criterion(outputs, labels)\n",
    "        loss.backward()\n",
    "        optimizer.step()\n",
    "        # increment the running loss and accuracy\n",
    "        train_loss += loss.item()\n",
    "        train_acc += (outputs.argmax(1) == labels).sum().item()\n",
    " \n",
    "    # calculate the average training loss and accuracy\n",
    "    train_loss /= len(train_loader)\n",
    "    train_loss_history.append(train_loss)\n",
    "    train_acc /= len(train_loader.dataset)\n",
    "    train_acc_history.append(train_acc)\n",
    " \n",
    "    print(f'Epoch {epoch+1}/{num_epochs}, train loss: {train_loss:.4f}, train acc: {train_acc:.4f}')"
   ]
  },
  {
   "cell_type": "code",
   "execution_count": 11,
   "id": "698e56f3",
   "metadata": {},
   "outputs": [],
   "source": [
    "# Load testing dataset and apply transformations\n",
    "test_set = datasets.ImageFolder(\"C:/Users/HP/Documents/Python/PyTorch/test\", transform=transforms.ToTensor())"
   ]
  },
  {
   "cell_type": "code",
   "execution_count": 12,
   "id": "96dc8739",
   "metadata": {},
   "outputs": [],
   "source": [
    "# Load the data into PyTorch DataLoader\n",
    "test_loader = torch.utils.data.DataLoader(test_set, batch_size=64, shuffle=False)"
   ]
  },
  {
   "cell_type": "code",
   "execution_count": 14,
   "id": "f79d604d",
   "metadata": {},
   "outputs": [
    {
     "name": "stdout",
     "output_type": "stream",
     "text": [
      "Epoch 1/30, test loss: 1.7426, test acc: 0.3800\n",
      "Epoch 2/30, test loss: 1.7426, test acc: 0.3800\n",
      "Epoch 3/30, test loss: 1.7426, test acc: 0.3800\n",
      "Epoch 4/30, test loss: 1.7426, test acc: 0.3800\n",
      "Epoch 5/30, test loss: 1.7426, test acc: 0.3800\n",
      "Epoch 6/30, test loss: 1.7426, test acc: 0.3800\n",
      "Epoch 7/30, test loss: 1.7426, test acc: 0.3800\n",
      "Epoch 8/30, test loss: 1.7426, test acc: 0.3800\n",
      "Epoch 9/30, test loss: 1.7426, test acc: 0.3800\n",
      "Epoch 10/30, test loss: 1.7426, test acc: 0.3800\n",
      "Epoch 11/30, test loss: 1.7426, test acc: 0.3800\n",
      "Epoch 12/30, test loss: 1.7426, test acc: 0.3800\n",
      "Epoch 13/30, test loss: 1.7426, test acc: 0.3800\n",
      "Epoch 14/30, test loss: 1.7426, test acc: 0.3800\n",
      "Epoch 15/30, test loss: 1.7426, test acc: 0.3800\n",
      "Epoch 16/30, test loss: 1.7426, test acc: 0.3800\n",
      "Epoch 17/30, test loss: 1.7426, test acc: 0.3800\n",
      "Epoch 18/30, test loss: 1.7426, test acc: 0.3800\n",
      "Epoch 19/30, test loss: 1.7426, test acc: 0.3800\n",
      "Epoch 20/30, test loss: 1.7426, test acc: 0.3800\n",
      "Epoch 21/30, test loss: 1.7426, test acc: 0.3800\n",
      "Epoch 22/30, test loss: 1.7426, test acc: 0.3800\n",
      "Epoch 23/30, test loss: 1.7426, test acc: 0.3800\n",
      "Epoch 24/30, test loss: 1.7426, test acc: 0.3800\n",
      "Epoch 25/30, test loss: 1.7426, test acc: 0.3800\n",
      "Epoch 26/30, test loss: 1.7426, test acc: 0.3800\n",
      "Epoch 27/30, test loss: 1.7426, test acc: 0.3800\n",
      "Epoch 28/30, test loss: 1.7426, test acc: 0.3800\n",
      "Epoch 29/30, test loss: 1.7426, test acc: 0.3800\n",
      "Epoch 30/30, test loss: 1.7426, test acc: 0.3800\n"
     ]
    }
   ],
   "source": [
    "# Test the model\n",
    "num_epochs = 30\n",
    "test_loss_history = []\n",
    "test_acc_history = []\n",
    " \n",
    "# Loop through the number of epochs\n",
    "for epoch in range(num_epochs):\n",
    "    test_loss = 0.0\n",
    "    test_acc = 0.0\n",
    " \n",
    "    # set the model to evaluation mode\n",
    "    model.eval()\n",
    "    with torch.no_grad():\n",
    "        for inputs, labels in test_loader:\n",
    "            outputs = model(inputs)\n",
    "            loss = criterion(outputs, labels)\n",
    "            test_loss += loss.item()\n",
    "            test_acc += (outputs.argmax(1) == labels).sum().item()\n",
    " \n",
    "    # calculate the average validation loss and accuracy\n",
    "    test_loss /= len(test_loader)\n",
    "    test_loss_history.append(test_loss)\n",
    "    test_acc /= len(test_loader.dataset)\n",
    "    test_acc_history.append(test_acc)\n",
    " \n",
    "    print(f'Epoch {epoch+1}/{num_epochs}, test loss: {test_loss:.4f}, test acc: {test_acc:.4f}')"
   ]
  },
  {
   "cell_type": "code",
   "execution_count": 15,
   "id": "4281ca94",
   "metadata": {},
   "outputs": [],
   "source": [
    "# Convert into TorchScript\n",
    "model_scripted = torch.jit.script(model) \n",
    "model_scripted.save('model_scripted.pt') "
   ]
  }
 ],
 "metadata": {
  "kernelspec": {
   "display_name": "Python 3 (ipykernel)",
   "language": "python",
   "name": "python3"
  },
  "language_info": {
   "codemirror_mode": {
    "name": "ipython",
    "version": 3
   },
   "file_extension": ".py",
   "mimetype": "text/x-python",
   "name": "python",
   "nbconvert_exporter": "python",
   "pygments_lexer": "ipython3",
   "version": "3.9.12"
  }
 },
 "nbformat": 4,
 "nbformat_minor": 5
}
